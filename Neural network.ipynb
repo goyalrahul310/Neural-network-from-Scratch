{
 "cells": [
  {
   "cell_type": "markdown",
   "metadata": {},
   "source": [
    "# Neural network from scratch"
   ]
  },
  {
   "cell_type": "code",
   "execution_count": 164,
   "metadata": {},
   "outputs": [],
   "source": [
    "import numpy as np\n",
    "import matplotlib.pyplot"
   ]
  },
  {
   "cell_type": "code",
   "execution_count": 165,
   "metadata": {},
   "outputs": [],
   "source": [
    "input_size = 2\n",
    "layer = [2,3]\n",
    "output_size = 2"
   ]
  },
  {
   "cell_type": "code",
   "execution_count": 166,
   "metadata": {},
   "outputs": [],
   "source": [
    "def softmax(z3):\n",
    "    epa = np.exp(z3)\n",
    "    ans = epa/np.sum(epa,axis = 1,keepdims = True)\n",
    "    return ans"
   ]
  },
  {
   "cell_type": "code",
   "execution_count": 167,
   "metadata": {},
   "outputs": [],
   "source": [
    "class neuralnetwork:\n",
    "    def __init__(self,input_size,layer,output_size):\n",
    "        np.random.seed(10)\n",
    "        model = {}\n",
    "        model['W1'] = np.random.randn(input_size,layer[0])\n",
    "        model['B1'] = np.random.randn(1,layer[0])\n",
    "        \n",
    "        model['W2'] = np.random.randn(layer[0],layer[1])\n",
    "        model['B2'] = np.random.randn(1,layer[1])\n",
    "        \n",
    "        model['W3'] = np.random.randn(layer[1],output_size)\n",
    "        model['B3'] = np.random.randn(1,output_size)\n",
    "        \n",
    "        self.model = model\n",
    "        \n",
    "    def forward(self,x):\n",
    "        w1,w2,w3 = self.model['W1'],self.model['W2'],self.model['W3']\n",
    "        b1,b2,b3 = self.model['B1'],self.model['B2'],self.model['B3']\n",
    "        \n",
    "        z1 = np.dot(x,w1) + b1\n",
    "        a1 = np.tanh(z1)\n",
    "        \n",
    "        z2 = np.dot(a1,w2) + b2\n",
    "        a2 = np.tanh(z2)\n",
    "        \n",
    "        z3 = np.dot(a2,w3) + b3\n",
    "        y_ = softmax(z3)\n",
    "        self.activation = a1,a2,y_\n",
    "        return y_\n",
    "    \n",
    "    \n",
    "    def backword(self,x,y,LR =0.0001):\n",
    "        w1,w2,w3 = self.model['W1'],self.model['W2'],self.model['W3']\n",
    "        b1,b2,b3 = self.model['B1'],self.model['B2'],self.model['B3']\n",
    "        a1,a2,y_ = self.activation\n",
    "        m = x.shape[0]\n",
    "        delta3 = y_ - y\n",
    "        dw3 = np.dot(a2.T,delta3)\n",
    "        db3 = np.sum(delta3,axis = 0)/float(m)\n",
    "        \n",
    "        delta2 = (1-np.square(a2))*np.dot(delta3,w3.T)\n",
    "        dw2 = np.dot(a1.T,delta2)\n",
    "        db2 = np.sum(delta2,axis = 0)/float(m)\n",
    "        \n",
    "        delta1 = (1-np.square(a1))*np.dot(delta2,w2.T)\n",
    "        dw1  = np.dot(x.T,delta1)\n",
    "        db1 = np.sum(delta1,axis = 0)/float(m)\n",
    "        \n",
    "        ## update weights and bias\n",
    "        \n",
    "        self.model[\"W3\"] -= LR*dw3\n",
    "        self.model[\"B3\"] -= LR*db3\n",
    "        self.model[\"W2\"] -= LR*dw2\n",
    "        self.model[\"B2\"] -= LR*db2\n",
    "        self.model[\"W1\"] -= LR*dw1\n",
    "        self.model[\"B1\"] -= LR*db1\n",
    "\n",
    "        return model\n",
    "    def predict(self,x):\n",
    "        yout = self.forward(x)\n",
    "        return np.argmax(yout,axis = 1)"
   ]
  },
  {
   "cell_type": "code",
   "execution_count": 168,
   "metadata": {},
   "outputs": [],
   "source": [
    "def loss(y_o,p):\n",
    "    l = -np.mean(y_o*np.log(p))\n",
    "    return l\n",
    "\n",
    "def one_hot(y,x,depth):\n",
    "    m = x.shape[0]\n",
    "    y_oht = np.zeros((m,depth))\n",
    "    y_oht[np.arange(m),y] = 1\n",
    "    return y_oht"
   ]
  },
  {
   "cell_type": "code",
   "execution_count": 169,
   "metadata": {},
   "outputs": [],
   "source": [
    "from sklearn.datasets import make_circles\n"
   ]
  },
  {
   "cell_type": "code",
   "execution_count": 170,
   "metadata": {},
   "outputs": [],
   "source": [
    "import matplotlib.pyplot as plt"
   ]
  },
  {
   "cell_type": "code",
   "execution_count": 171,
   "metadata": {},
   "outputs": [],
   "source": [
    "\n",
    "X,y = make_circles(n_samples=500,shuffle=True,noise=None,random_state=10)"
   ]
  },
  {
   "cell_type": "code",
   "execution_count": 172,
   "metadata": {},
   "outputs": [
    {
     "data": {
      "image/png": "[encoded data removed]",
      "text/plain": [
       "<Figure size 432x288 with 1 Axes>"
      ]
     },
     "metadata": {
      "needs_background": "light"
     },
     "output_type": "display_data"
    }
   ],
   "source": [
    "plt.scatter(X[:,0],X[:,1],c= y)\n",
    "plt.show()"
   ]
  },
  {
   "cell_type": "code",
   "execution_count": 173,
   "metadata": {},
   "outputs": [],
   "source": [
    "model = neuralnetwork(input_size = 2,layer = [2,3],output_size = 2)"
   ]
  },
  {
   "cell_type": "code",
   "execution_count": 174,
   "metadata": {},
   "outputs": [
    {
     "name": "stdout",
     "output_type": "stream",
     "text": [
      "(500, 2)\n",
      "(500,)\n"
     ]
    }
   ],
   "source": [
    "y_ = model.forward(X)\n",
    "print(y_.shape)\n",
    "print(y.shape)"
   ]
  },
  {
   "cell_type": "code",
   "execution_count": 175,
   "metadata": {},
   "outputs": [],
   "source": [
    "def train(X,y,model,epoch,lr):\n",
    "    training_loss = []\n",
    "    y_ac = one_hot(y,X,2)\n",
    "   \n",
    "    for ix in range(epoch):\n",
    "        y_p = model.forward(X)\n",
    "        l = loss(y_ac,y_p)\n",
    "        training_loss.append(l)\n",
    "        model.backword(X,y_ac,lr)\n",
    "    return training_loss"
   ]
  },
  {
   "cell_type": "code",
   "execution_count": 191,
   "metadata": {},
   "outputs": [],
   "source": [
    "losss = train(X,y,model,1000,0.001)"
   ]
  },
  {
   "cell_type": "code",
   "execution_count": 192,
   "metadata": {},
   "outputs": [
    {
     "name": "stdout",
     "output_type": "stream",
     "text": [
      "(500, 2)\n"
     ]
    }
   ],
   "source": [
    "print(X.shape)"
   ]
  },
  {
   "cell_type": "code",
   "execution_count": 193,
   "metadata": {},
   "outputs": [
    {
     "data": {
      "text/plain": [
       "[<matplotlib.lines.Line2D at 0x287e921ca90>]"
      ]
     },
     "execution_count": 193,
     "metadata": {},
     "output_type": "execute_result"
    },
    {
     "data": {
      "image/png": "[encoded data removed]",
      "text/plain": [
       "<Figure size 432x288 with 1 Axes>"
      ]
     },
     "metadata": {
      "needs_background": "light"
     },
     "output_type": "display_data"
    }
   ],
   "source": [
    "plt.plot(losss)"
   ]
  },
  {
   "cell_type": "code",
   "execution_count": 194,
   "metadata": {},
   "outputs": [],
   "source": [
    "output = model.predict(X)"
   ]
  },
  {
   "cell_type": "markdown",
   "metadata": {},
   "source": [
    "# Accuracy "
   ]
  },
  {
   "cell_type": "code",
   "execution_count": 195,
   "metadata": {},
   "outputs": [],
   "source": [
    "acc = np.sum(output == y)/y.shape[0]"
   ]
  },
  {
   "cell_type": "code",
   "execution_count": 196,
   "metadata": {},
   "outputs": [
    {
     "data": {
      "text/plain": [
       "0.692"
      ]
     },
     "execution_count": 196,
     "metadata": {},
     "output_type": "execute_result"
    }
   ],
   "source": [
    "acc"
   ]
  },
  {
   "cell_type": "code",
   "execution_count": null,
   "metadata": {},
   "outputs": [],
   "source": []
  },
  {
   "cell_type": "code",
   "execution_count": null,
   "metadata": {},
   "outputs": [],
   "source": []
  },
  {
   "cell_type": "code",
   "execution_count": null,
   "metadata": {},
   "outputs": [],
   "source": []
  }
 ],
 "metadata": {
  "kernelspec": {
   "display_name": "Python 3",
   "language": "python",
   "name": "python3"
  },
  "language_info": {
   "codemirror_mode": {
    "name": "ipython",
    "version": 3
   },
   "file_extension": ".py",
   "mimetype": "text/x-python",
   "name": "python",
   "nbconvert_exporter": "python",
   "pygments_lexer": "ipython3",
   "version": "3.6.7"
  }
 },
 "nbformat": 4,
 "nbformat_minor": 2
}
